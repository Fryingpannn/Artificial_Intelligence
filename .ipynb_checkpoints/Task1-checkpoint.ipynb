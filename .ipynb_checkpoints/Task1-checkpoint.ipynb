{
 "cells": [
  {
   "cell_type": "code",
   "execution_count": 1,
   "id": "mobile-engineer",
   "metadata": {},
   "outputs": [
    {
     "data": {
      "image/png": "[encoded data removed]",
      "text/plain": [
       "<Figure size 1080x720 with 1 Axes>"
      ]
     },
     "metadata": {
      "needs_background": "light"
     },
     "output_type": "display_data"
    }
   ],
   "source": [
    "#step 2\n",
    "\n",
    "import matplotlib.pyplot as plt\n",
    "import os\n",
    "\n",
    "number_per_category = []\n",
    "DIR = 'BBC/business'\n",
    "files = os.listdir(DIR)\n",
    "number_per_category.append(len(files))\n",
    "\n",
    "DIR = 'BBC/entertainment'\n",
    "files = os.listdir(DIR)\n",
    "number_per_category.append(len(files))\n",
    "\n",
    "DIR = 'BBC/politics'\n",
    "files = os.listdir(DIR)\n",
    "number_per_category.append(len(files))\n",
    "\n",
    "DIR = 'BBC/sport'\n",
    "files = os.listdir(DIR)\n",
    "number_per_category.append(len(files))\n",
    "\n",
    "DIR = 'BBC/tech'\n",
    "files = os.listdir(DIR)\n",
    "number_per_category.append(len(files))\n",
    "\n",
    "fig = plt.figure(figsize=(15,10))\n",
    "ax = fig.add_axes([0,0,1,1])\n",
    "plt.axis(\"on\")\n",
    "langs = ['Business', 'Entertainment', 'Politics', 'Sport', 'Tech']\n",
    "ax.bar(langs,number_per_category)\n",
    "plt.show()\n",
    "fig.savefig(\"BBC-distribution.pdf\",bbox_inches='tight', dpi=150);"
   ]
  },
  {
   "cell_type": "code",
   "execution_count": 2,
   "id": "adverse-overview",
   "metadata": {},
   "outputs": [],
   "source": [
    "#step 3\n",
    "import sklearn.datasets\n",
    "dataset = sklearn.datasets.load_files(\"BBC\", encoding=\"latin1\", decode_error='strict')"
   ]
  },
  {
   "cell_type": "code",
   "execution_count": 3,
   "id": "foreign-magnitude",
   "metadata": {
    "scrolled": true
   },
   "outputs": [],
   "source": [
    "#step 4\n",
    "import sklearn.model_selection\n",
    "from sklearn.feature_extraction.text import TfidfTransformer,CountVectorizer\n",
    "\n",
    "count_vect = CountVectorizer()\n",
    "term_document_matrix = count_vect.fit_transform(dataset.data)"
   ]
  },
  {
   "cell_type": "code",
   "execution_count": 4,
   "id": "nervous-individual",
   "metadata": {},
   "outputs": [],
   "source": [
    "#step 5\n",
    "x_train,x_test,y_train,y_test = sklearn.model_selection.train_test_split(term_document_matrix, dataset.target,test_size=0.2, random_state=None)"
   ]
  },
  {
   "cell_type": "code",
   "execution_count": 10,
   "id": "suburban-fifty",
   "metadata": {},
   "outputs": [
    {
     "data": {
      "text/plain": [
       "0.9707865168539326"
      ]
     },
     "execution_count": 10,
     "metadata": {},
     "output_type": "execute_result"
    }
   ],
   "source": [
    "#step 6\n",
    "from sklearn.naive_bayes import MultinomialNB\n",
    "clf = MultinomialNB()\n",
    "clf.fit(x_train, y_train)\n",
    "\n",
    "import numpy as np\n",
    "predicted = clf.predict(x_test)\n",
    "np.mean(predicted == y_test)\n",
    "\n"
   ]
  },
  {
   "cell_type": "code",
   "execution_count": 6,
   "id": "suited-beads",
   "metadata": {},
   "outputs": [],
   "source": [
    "with open('bbc-performance.txt', 'a') as f:\n",
    "    f.write(\"(a) ************** Multi-nomialNB default values, try 1\")"
   ]
  },
  {
   "cell_type": "code",
   "execution_count": 17,
   "id": "sticky-unknown",
   "metadata": {},
   "outputs": [],
   "source": [
    "#step 7\n",
    "\n",
    "import math\n",
    "\n",
    "#b)\n",
    "confusion = sklearn.metrics.confusion_matrix(y_test, predicted)\n",
    "\n",
    "#c)\n",
    "report = sklearn.metrics.classification_report(y_test, predicted,target_names=dataset.target_names)\n",
    "\n",
    "#d)\n",
    "accuracy = sklearn.metrics.accuracy_score(y_test, predicted)\n",
    "macro_average = sklearn.metrics.f1_score(y_test, predicted, average=\"macro\")\n",
    "weighted_average = sklearn.metrics.f1_score(y_test, predicted, average=\"weighted\")\n",
    "\n",
    "#e)\n",
    "\n",
    "total_documents = len(x_train.toarray())\n",
    "\n",
    "priors = [0,0,0,0,0]\n",
    "for i in range (0,5):\n",
    "    priors[i] = clf.class_count_[i]\n",
    "    \n",
    "for i in range (0,len(priors)):\n",
    "    priors[i] /= total_documents\n",
    "#f)\n",
    "vocab_size = len(count_vect.get_feature_names())\n",
    "\n",
    "#g)\n",
    "word_token_per_class = {}\n",
    "for category in dataset.target_names:\n",
    "    word_token_per_class[category] = 0\n",
    "zero_per_class = [0,0,0,0,0]\n",
    "for category_index in range (0, len(dataset.target_names)):\n",
    "    feature_per_class = clf.feature_count_[category_index]\n",
    "    for count in feature_per_class:\n",
    "        word_token_per_class[dataset.target_names[category_index]] += count\n",
    "        if count == 0:\n",
    "            zero_per_class[category_index] += 1\n",
    "\n",
    "                \n",
    "#h)\n",
    "feature_count_in_corpus = [a + b + c + d + e for a, b, c, d, e in zip(clf.feature_count_[0], clf.feature_count_[1],clf.feature_count_[2],clf.feature_count_[3],clf.feature_count_[4])]\n",
    "\n",
    "total_words = 0\n",
    "for count in feature_count_in_corpus:\n",
    "    total_words += count\n",
    "    \n",
    "#i)\n",
    "zero_per_class\n",
    "\n",
    "#j)\n",
    "ones_in_total = 0\n",
    "\n",
    "for count in feature_count_in_corpus:\n",
    "    if count == 1:\n",
    "        ones_in_total += 1                    \n",
    "#k)\n",
    "love_index = count_vect.get_feature_names().index(\"love\")\n",
    "hate_index = count_vect.get_feature_names().index(\"hate\")\n",
    "love_freq = 0\n",
    "hate_freq = 0\n",
    "for category_index in range (0, len(dataset.target_names)):\n",
    "    love_freq += clf.feature_count_[category_index][love_index]\n",
    "    hate_freq += clf.feature_count_[category_index][hate_index]\n",
    "\n",
    "log_hate = math.log10(hate_freq/total_words)\n",
    "log_love = math.log10(love_freq/total_words)"
   ]
  },
  {
   "cell_type": "code",
   "execution_count": 18,
   "id": "appreciated-russia",
   "metadata": {},
   "outputs": [],
   "source": [
    "with open('bbc-performance.txt', 'a') as f:\n",
    "    f.write('\\n')\n",
    "    f.write(\"(b) confusion matrix:\\n\" )\n",
    "    f.writelines([\"%s\\n\" % item  for item in confusion])\n",
    "    f.write('\\n')\n",
    "    f.write(\"(c) report:\\n\")\n",
    "    f.write(str(report))\n",
    "    f.write('\\n')\n",
    "    f.write(\"(d) accuracy: \"+ str(accuracy) + \"     macro-average F1: \" + str(macro_average) + \"     weighted-average F1: \" + str(weighted_average))\n",
    "    f.write('\\n')\n",
    "    f.write(\"(e) Prior Probabilites:\")\n",
    "    f.write('\\n')\n",
    "    f.write(\"Business: \"+ str(priors[0]) + \"     Entertainment: \" + str(priors[1]) + \"     Politics: \" + str(priors[2]) + \"     Sports: \" + str(priors[3])+\"     Tech: \" + str(priors[4]))\n",
    "    f.write('\\n')\n",
    "    f.write(\"(f) vocabulary size: \"+str(vocab_size))\n",
    "    f.write('\\n')\n",
    "    f.write(\"(g) word token per class:\\n\")\n",
    "    for key, val in word_token_per_class.items():\n",
    "        f.write(str(key)+\" : \"+str(val)+\"     \" )\n",
    "    f.write('\\n')\n",
    "    f.write(\"(h) Total word count: \" + str(total_words))\n",
    "    f.write('\\n')\n",
    "    f.write(\"(i) Number and percentage of words with frequency of 0: \")\n",
    "    f.write('\\n')\n",
    "    f.write(\"Business: \"+ str(zero_per_class[0]) +  \" (\" +str(zero_per_class[0]*100/vocab_size)+\"%)\"\n",
    "           \"        Entertainment: \"+ str(zero_per_class[1]) +  \" (\" +str(zero_per_class[1]*100/vocab_size)+\"%)\"\n",
    "           \"        Politics: \"+ str(zero_per_class[2]) +  \" (\" +str(zero_per_class[2]*100/vocab_size)+\"%)\"\n",
    "           \"        Sports: \"+ str(zero_per_class[3]) +  \" (\" +str(zero_per_class[3]*100/vocab_size)+\"%)\"\n",
    "           \"        Tech: \"+ str(zero_per_class[4]) +  \" (\" +str(zero_per_class[4]*100/vocab_size)+\"%)\")\n",
    "    \n",
    "    f.write('\\n')\n",
    "    f.write(\"(j) Number and percentage of words with frequency of 1 in the entire dataset: \" + str(ones_in_total) + \" (\" +str(ones_in_total*100/vocab_size)+\"%)\")\n",
    "    f.write('\\n')\n",
    "    f.write(\"(k) Love: \" + str(log_love) + \"   Hate: \"+ str(log_hate))"
   ]
  },
  {
   "cell_type": "code",
   "execution_count": 9,
   "id": "complex-chase",
   "metadata": {},
   "outputs": [],
   "source": [
    "#step 8\n",
    "with open('bbc-performance.txt', 'a') as f:\n",
    "    f.write('\\n')\n",
    "    f.write(\"(a) ************** Multi-nomialNB default values, try 2\")"
   ]
  },
  {
   "cell_type": "code",
   "execution_count": 13,
   "id": "deadly-original",
   "metadata": {},
   "outputs": [],
   "source": [
    "#step 9\n",
    "clf = MultinomialNB(alpha = 0.0001)\n",
    "clf.fit(x_train, y_train)\n",
    "predicted = clf.predict(x_test)\n",
    "np.mean(predicted == y_test)\n",
    "\n",
    "with open('bbc-performance.txt', 'a') as f:\n",
    "    f.write('\\n')\n",
    "    f.write(\"(a) ************** Multi-nomialNB with smoothing = 0.0001\")"
   ]
  },
  {
   "cell_type": "code",
   "execution_count": 16,
   "id": "guided-tomato",
   "metadata": {},
   "outputs": [],
   "source": [
    "#step 10\n",
    "clf = MultinomialNB(alpha = 0.9)\n",
    "clf.fit(x_train, y_train)\n",
    "predicted = clf.predict(x_test)\n",
    "np.mean(predicted == y_test)\n",
    "\n",
    "with open('bbc-performance.txt', 'a') as f:\n",
    "    f.write('\\n')\n",
    "    f.write(\"(a) ************** Multi-nomialNB with smoothing = 0.9\")"
   ]
  },
  {
   "cell_type": "code",
   "execution_count": null,
   "id": "suffering-police",
   "metadata": {},
   "outputs": [],
   "source": []
  }
 ],
 "metadata": {
  "kernelspec": {
   "display_name": "Python 3",
   "language": "python",
   "name": "python3"
  },
  "language_info": {
   "codemirror_mode": {
    "name": "ipython",
    "version": 3
   },
   "file_extension": ".py",
   "mimetype": "text/x-python",
   "name": "python",
   "nbconvert_exporter": "python",
   "pygments_lexer": "ipython3",
   "version": "3.9.1"
  }
 },
 "nbformat": 4,
 "nbformat_minor": 5
}
