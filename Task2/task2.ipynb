{
 "cells": [
  {
   "cell_type": "code",
   "execution_count": 11,
   "source": [
    "import numpy as np\r\n",
    "import matplotlib.pyplot as plt\r\n",
    "import pandas as pd\r\n",
    "\r\n",
    "drugList = pd.read_csv(\"drug200.csv\")\r\n",
    "\r\n",
    "## Spliting into 5 groups\r\n",
    "drugY = drugList.loc[drugList['Drug'] == \"drugY\"]\r\n",
    "drugX = drugList.loc[drugList['Drug'] == \"drugX\"]\r\n",
    "drugA = drugList.loc[drugList['Drug'] == \"drugA\"]\r\n",
    "drugB = drugList.loc[drugList['Drug'] == \"drugB\"]\r\n",
    "drugC = drugList.loc[drugList['Drug'] == \"drugC\"]\r\n",
    "\r\n",
    "\r\n",
    "## Will use Na_to_K against ages with drugtype to do as classification\r\n",
    "\r\n",
    "print(drugY['Na_to_K'].mean())\r\n",
    "print(drugX['Na_to_K'].mean())\r\n",
    "print(drugA['Na_to_K'].mean())\r\n",
    "print(drugB['Na_to_K'].mean())\r\n",
    "print(drugC['Na_to_K'].mean())\r\n",
    "\r\n",
    "xAxis = [\"DrugY\", \"DrugX\", \"DrugA\", \"DrugB\", \"DrugC\"]\r\n",
    "yAxis = [drugY['Na_to_K'].mean(), drugX['Na_to_K'].mean(), drugA['Na_to_K'].mean(), drugB['Na_to_K'].mean(), drugC['Na_to_K'].mean()]\r\n",
    "\r\n",
    "# drugY.plot(x = 'Age', y='Na_to_K', label=\"drugY\")\r\n",
    "# drugX.plot(x = 'Age', y='Na_to_K', label=\"drugX\")\r\n",
    "# drugA.plot(x = 'Age', y='Na_to_K', label=\"drugA\")\r\n",
    "# drugB.plot(x = 'Age', y='Na_to_K', label=\"drugB\")\r\n",
    "# drugC.plot(x = 'Age', y='Na_to_K', label=\"drugC\")\r\n",
    "\r\n",
    "plt.bar(xAxis, yAxis)\r\n",
    "\r\n",
    "plt.title(\"Drug Classification by Na_to_k\")\r\n",
    "plt.xlabel(\"Drug Type\")\r\n",
    "\r\n",
    "drugList.plot.bar(rot=0)\r\n",
    "\r\n",
    "plt.savefig(\"drugClassification.pdf\", format=\"pdf\", bbox_inches=\"tight\")"
   ],
   "outputs": [
    {
     "output_type": "stream",
     "name": "stdout",
     "text": [
      "22.374780219780213\n",
      "10.650555555555558\n",
      "10.91878260869565\n",
      "11.524375\n",
      "10.63375\n"
     ]
    },
    {
     "output_type": "display_data",
     "data": {
      "image/png": "[encoded data removed]",
      "text/plain": [
       "<Figure size 432x288 with 1 Axes>"
      ]
     },
     "metadata": {
      "needs_background": "light"
     }
    },
    {
     "output_type": "display_data",
     "data": {
      "image/png": "[encoded data removed]",
      "text/plain": [
       "<Figure size 432x288 with 1 Axes>"
      ]
     },
     "metadata": {
      "needs_background": "light"
     }
    }
   ],
   "metadata": {}
  },
  {
   "cell_type": "code",
   "execution_count": 16,
   "source": [
    "import numpy as np\r\n",
    "import matplotlib.pyplot as plt\r\n",
    "import pandas as pd\r\n",
    "import sklearn.model_selection as model_selection\r\n",
    "\r\n",
    "# Task 4, 5\r\n",
    "drugList = pd.read_csv(\"drug200.csv\")\r\n",
    "\r\n",
    "drugList.BP = pd.Categorical(drugList.BP, ['LOW', 'NORMAL', 'HIGH'], ordered=True)\r\n",
    "drugList.BP = drugList.BP.cat.codes\r\n",
    "\r\n",
    "drugList.Cholesterol = pd.Categorical(drugList.Cholesterol, ['NORMAL', 'HIGH'], ordered=True)\r\n",
    "drugList.Cholesterol = drugList.Cholesterol.cat.codes\r\n",
    "\r\n",
    "\r\n",
    "drugList.Sex = pd.Categorical(drugList.Sex, ['F', 'M'], ordered=True)\r\n",
    "drugList.Sex = drugList.Sex.cat.codes\r\n",
    "\r\n",
    "print(drugList)\r\n",
    "\r\n",
    "train, test = model_selection.train_test_split(drugList)\r\n",
    "\r\n",
    "print(train)\r\n",
    "print(\"\\n\\n\\n\\n Test:\")\r\n",
    "print(test)\r\n",
    "\r\n",
    "# dummy = pd.get_dummies(drugList['BP'], drop_first=False)\r\n",
    "\r\n",
    "# print(dummy)"
   ],
   "outputs": [
    {
     "output_type": "stream",
     "name": "stdout",
     "text": [
      "     Age  Sex  BP  Cholesterol  Na_to_K   Drug\n",
      "0     23    0   2            1   25.355  drugY\n",
      "1     47    1   0            1   13.093  drugC\n",
      "2     47    1   0            1   10.114  drugC\n",
      "3     28    0   1            1    7.798  drugX\n",
      "4     61    0   0            1   18.043  drugY\n",
      "..   ...  ...  ..          ...      ...    ...\n",
      "195   56    0   0            1   11.567  drugC\n",
      "196   16    1   0            1   12.006  drugC\n",
      "197   52    1   1            1    9.894  drugX\n",
      "198   23    1   1            0   14.020  drugX\n",
      "199   40    0   0            0   11.349  drugX\n",
      "\n",
      "[200 rows x 6 columns]\n",
      "     Age  Sex  BP  Cholesterol  Na_to_K   Drug\n",
      "121   15    1   2            0   17.206  drugY\n",
      "182   20    0   0            0   11.686  drugX\n",
      "2     47    1   0            1   10.114  drugC\n",
      "104   22    1   2            0   28.294  drugY\n",
      "103   56    1   1            1    8.966  drugX\n",
      "..   ...  ...  ..          ...      ...    ...\n",
      "43    23    1   1            1   12.260  drugX\n",
      "3     28    0   1            1    7.798  drugX\n",
      "11    34    0   2            0   19.199  drugY\n",
      "88    37    0   2            0   23.091  drugY\n",
      "44    50    0   1            0   12.295  drugX\n",
      "\n",
      "[150 rows x 6 columns]\n",
      "\n",
      "\n",
      "\n",
      "\n",
      " Test:\n",
      "     Age  Sex  BP  Cholesterol  Na_to_K   Drug\n",
      "12    43    1   0            1   15.376  drugY\n",
      "183   36    0   2            0   15.490  drugY\n",
      "79    32    0   0            0   10.840  drugX\n",
      "48    23    1   1            1   31.686  drugY\n",
      "19    32    0   2            0   25.974  drugY\n",
      "198   23    1   1            0   14.020  drugX\n",
      "155   49    1   0            1   10.537  drugC\n",
      "107   42    1   0            1   20.013  drugY\n",
      "139   69    0   1            1   10.065  drugX\n",
      "41    58    0   2            0   14.239  drugB\n",
      "26    31    1   2            1   30.366  drugY\n",
      "33    65    0   2            0   31.876  drugY\n",
      "138   51    1   2            0   11.343  drugB\n",
      "42    50    1   1            0   15.790  drugY\n",
      "72    24    0   1            1   10.605  drugX\n",
      "27    49    0   1            0    9.381  drugX\n",
      "111   47    0   1            0    6.683  drugX\n",
      "135   74    1   0            0   11.939  drugX\n",
      "9     43    1   0            0   19.368  drugY\n",
      "76    36    0   2            1   11.198  drugA\n",
      "133   24    1   1            1   25.786  drugY\n",
      "173   41    0   0            0   18.739  drugY\n",
      "58    60    1   1            0   10.091  drugX\n",
      "80    60    1   2            1   13.934  drugB\n",
      "105   37    1   0            0    8.968  drugX\n",
      "125   19    0   2            0   25.969  drugY\n",
      "130   70    0   1            1   20.489  drugY\n",
      "180   22    0   2            0   22.818  drugY\n",
      "136   55    0   2            1   10.977  drugB\n",
      "127   35    1   1            0    7.845  drugX\n",
      "179   67    0   1            1   15.891  drugY\n",
      "184   18    0   2            1   37.188  drugY\n",
      "122   34    1   1            1   22.456  drugY\n",
      "152   55    1   1            0    7.261  drugX\n",
      "174   42    1   2            0   12.766  drugA\n",
      "66    29    1   2            1   12.856  drugA\n",
      "113   65    0   0            0   13.769  drugX\n",
      "160   30    0   1            1   10.443  drugX\n",
      "92    29    0   2            1   29.450  drugY\n",
      "86    51    0   1            1   13.597  drugX\n",
      "74    31    1   2            0   17.069  drugY\n",
      "34    53    1   1            1   14.133  drugX\n",
      "186   70    1   2            1    9.849  drugB\n",
      "134   42    0   2            1   21.036  drugY\n",
      "192   72    1   0            1   16.310  drugY\n",
      "197   52    1   1            1    9.894  drugX\n",
      "100   31    1   2            0   11.871  drugA\n",
      "118   32    0   2            0   10.292  drugA\n",
      "153   72    0   0            0   14.642  drugX\n",
      "70    70    1   2            1   13.967  drugB\n"
     ]
    }
   ],
   "metadata": {}
  }
 ],
 "metadata": {
  "orig_nbformat": 4,
  "language_info": {
   "name": "python",
   "version": "3.8.8",
   "mimetype": "text/x-python",
   "codemirror_mode": {
    "name": "ipython",
    "version": 3
   },
   "pygments_lexer": "ipython3",
   "nbconvert_exporter": "python",
   "file_extension": ".py"
  },
  "kernelspec": {
   "name": "python3",
   "display_name": "Python 3.8.8 64-bit ('base': conda)"
  },
  "interpreter": {
   "hash": "11692a127ca54ef145ed8c5d32bab84ef8455769afad8094c9728c607474ffed"
  }
 },
 "nbformat": 4,
 "nbformat_minor": 2
}